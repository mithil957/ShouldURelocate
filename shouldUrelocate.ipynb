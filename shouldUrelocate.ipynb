{
 "cells": [
  {
   "cell_type": "code",
   "execution_count": 1,
   "metadata": {},
   "outputs": [],
   "source": [
    "import time\n",
    "from urllib.request import Request, urlopen\n",
    "from bs4 import BeautifulSoup\n",
    "import pandas as pd\n",
    "import warnings\n",
    "warnings.filterwarnings('ignore')"
   ]
  },
  {
   "cell_type": "code",
   "execution_count": 2,
   "metadata": {},
   "outputs": [
    {
     "data": {
      "text/plain": [
       "'Texas'"
      ]
     },
     "execution_count": 2,
     "metadata": {},
     "output_type": "execute_result"
    }
   ],
   "source": [
    "resp = Request('https://abbreviations.yourdictionary.com/articles/state-abbrev.html', headers={'User-Agent':'Mozilla'}) #http response\n",
    "soup1 = BeautifulSoup(urlopen(resp)) #turn respone into readable data\n",
    "\n",
    "tax_states_dict = {}\n",
    "for i in soup1.find('ul'):\n",
    "    if i != ' ':\n",
    "        temp = str(i).split('>')[1].split('<')[0].split('-')\n",
    "        tax_states_dict[temp[1].rstrip().lstrip()] = temp[0].rstrip()\n",
    "\n",
    "tax_states_dict['TX']"
   ]
  },
  {
   "cell_type": "code",
   "execution_count": 3,
   "metadata": {},
   "outputs": [],
   "source": [
    "def get_net_pay(money, rate, state):\n",
    "    if rate in ['year', 'month', 'biweek', 'week', 'day', 'hour']:\n",
    "        url_base = 'https://neuvoo.com/tax-calculator/?iam=&salary=%s&from=%s&region=%s' % (str(money), rate, tax_states_dict[state])\n",
    "        url_base = '+'.join(url_base.split(' '))\n",
    "        resp = Request(url_base, headers={'User-Agent':'Mozilla'}) #http response\n",
    "        soup = BeautifulSoup(urlopen(resp)) #turn respone into readable data\n",
    "        net_pay = soup.find(\"div\", {\"id\": \"net_pay\"}).text\n",
    "        return net_pay[2:]\n",
    "    else:\n",
    "        print('Check your rate')\n",
    "        return 'Error'"
   ]
  },
  {
   "cell_type": "code",
   "execution_count": 4,
   "metadata": {},
   "outputs": [],
   "source": [
    "def col_compare(rate, yearly_to, yearly_from, city_to, city_from='Dallas, TX'):\n",
    "    '''\n",
    "        rate: string with any value in ['year', 'month', 'biweek', 'week', 'day', 'hour'],\n",
    "        yearly_to: int,\n",
    "        yearly_from: int,\n",
    "        city: string in format \"City name, State acronym\",\n",
    "        city_from: string in format \"City name, State\"\n",
    "    '''\n",
    "    #we get the net pay after taxes\n",
    "    state_to = city_to.split(',')[1].lstrip()\n",
    "    state_from = city_from.split(',')[1].lstrip()\n",
    "    net_pay_to = get_net_pay(yearly_to, rate, state_to)\n",
    "    net_pay_from = get_net_pay(yearly_from, rate, state_from)\n",
    "    if net_pay_from == 'Error' or net_pay_to == 'Error':\n",
    "        print('Check your inputs')\n",
    "    else:\n",
    "        nw_url = 'https://www.nerdwallet.com/cost-of-living-calculator/compare/%s-vs-%s' % (city_dict[city_from], city_dict[city_to])\n",
    "        resp = Request(nw_url, headers={'User-Agent':'Mozilla'}) #http response\n",
    "        key_str = BeautifulSoup(urlopen(resp)).find('div', {'class': 'col-results-header-info'}).text\n",
    "        \n",
    "        print('%s after taxes in %s' % (net_pay_from, city_from))\n",
    "        print('%s after taxes in %s' % (net_pay_to, city_to))\n",
    "        print('-------------------------------------------------------')\n",
    "        print(key_str)\n",
    "        \n",
    "        key_str = key_str.split(' ')[5:7]\n",
    "        col_mag = float(key_str[0][:-1])/100\n",
    "        col_dir = 1+col_mag if key_str[1] == 'higher' else 1-col_mag\n",
    "        \n",
    "        col_from = float(''.join(net_pay_from[1:].split(',')))\n",
    "        col_to = float(''.join(net_pay_to[1:].split(','))) / col_dir\n",
    "        print('-------------------------------------------------------')\n",
    "        change_in_col = col_from/col_to\n",
    "        if change_in_col > 1:\n",
    "            rud = str(round((change_in_col-1)*100,3)) + '%'\n",
    "            print('Moving from %s to %s leads to %s reduction in standard of living' % (city_from, city_to, rud))\n",
    "        else:\n",
    "            inc = str(round((1-change_in_col)*100, 3)) + '%'\n",
    "            print('Moving from %s to %s leads to %s increase in standard of living' % (city_from, city_to, inc))\n",
    "        "
   ]
  },
  {
   "cell_type": "code",
   "execution_count": 6,
   "metadata": {},
   "outputs": [],
   "source": [
    "f = open('city_urls_nd.txt', 'r')\n",
    "city_tags = []\n",
    "for i in f:\n",
    "    city_tags.append(i[:-1].split('vs')[-1][1:])\n",
    "\n",
    "city_tags.append('dallas-tx')\n",
    "\n",
    "def city_formatter(city_tag):\n",
    "    temp = city_tag.split('-')\n",
    "    state = temp[-1].upper()\n",
    "    city = [i.capitalize() for i in temp[:-1]]\n",
    "    return ' '.join(city) + ', ' + state\n",
    "\n",
    "city_dict = {city_formatter(i): i for i in city_tags} # Formatted city name so it looks nicer when inputed \n",
    "\n",
    "test_city_dict = {i:key for i,key in enumerate(city_dict.keys())} #made so I don't have to type up the city name"
   ]
  },
  {
   "cell_type": "code",
   "execution_count": 8,
   "metadata": {},
   "outputs": [
    {
     "data": {
      "text/plain": [
       "{0: 'Anchorage, AK',\n",
       " 1: 'Fairbanks, AK',\n",
       " 2: 'Juneau, AK',\n",
       " 3: 'Anniston Calhoun County, AL',\n",
       " 4: 'Auburn Opelika, AL',\n",
       " 5: 'Birmingham, AL',\n",
       " 6: 'Decatur Hartselle, AL',\n",
       " 7: 'Dothan, AL',\n",
       " 8: 'Florence, AL',\n",
       " 9: 'Huntsville, AL',\n",
       " 10: 'Mobile, AL',\n",
       " 11: 'Montgomery, AL',\n",
       " 12: 'Conway, AR',\n",
       " 13: 'Fayetteville, AR',\n",
       " 14: 'Hot Springs, AR',\n",
       " 15: 'Jonesboro, AR',\n",
       " 16: 'Little Rock North Little Rock, AR',\n",
       " 17: 'Bullhead City, AZ',\n",
       " 18: 'Flagstaff, AZ',\n",
       " 19: 'Lake Havasu City, AZ',\n",
       " 20: 'Phoenix, AZ',\n",
       " 21: 'Surprise, AZ',\n",
       " 22: 'Tucson, AZ',\n",
       " 23: 'Yuma, AZ',\n",
       " 24: 'Bakersfield, CA',\n",
       " 25: 'Los Angeles Long Beach, CA',\n",
       " 26: 'Modesto, CA',\n",
       " 27: 'Oakland, CA',\n",
       " 28: 'Orange County, CA',\n",
       " 29: 'Sacramento, CA',\n",
       " 30: 'San Diego, CA',\n",
       " 31: 'San Francisco, CA',\n",
       " 32: 'Stockton, CA',\n",
       " 33: 'Colorado Springs, CO',\n",
       " 34: 'Denver, CO',\n",
       " 35: 'Glenwood Springs, CO',\n",
       " 36: 'Pueblo, CO',\n",
       " 37: 'Westminster, CO',\n",
       " 38: 'New Haven, CT',\n",
       " 39: 'Stamford, CT',\n",
       " 40: 'Washington, DC',\n",
       " 41: 'Dover, DE',\n",
       " 42: 'Sussex County, DE',\n",
       " 43: 'Wilmington, DE',\n",
       " 44: 'Cape Coral Fort Myers, FL',\n",
       " 45: 'Daytona Beach, FL',\n",
       " 46: 'Fort Lauderdale, FL',\n",
       " 47: 'Jacksonville, FL',\n",
       " 48: 'Miami Dade County, FL',\n",
       " 49: 'Orlando, FL',\n",
       " 50: 'Palm Coast Flagler County, FL',\n",
       " 51: 'Pensacola, FL',\n",
       " 52: 'Sarasota, FL',\n",
       " 53: 'Tallahassee, FL',\n",
       " 54: 'Tampa, FL',\n",
       " 55: 'Vero Beach Indian River, FL',\n",
       " 56: 'Atlanta, GA',\n",
       " 57: 'Dalton, GA',\n",
       " 58: 'Dublin Laurens County, GA',\n",
       " 59: 'Marietta, GA',\n",
       " 60: 'Savannah, GA',\n",
       " 61: 'Statesboro Bulloch County, GA',\n",
       " 62: 'Valdosta, GA',\n",
       " 63: 'Augusta Aiken Ga, SC',\n",
       " 64: 'Honolulu, HI',\n",
       " 65: 'Ames, IA',\n",
       " 66: 'Burlington, IA',\n",
       " 67: 'Cedar Rapids, IA',\n",
       " 68: 'Des Moines, IA',\n",
       " 69: 'Dubuque, IA',\n",
       " 70: 'Mason City, IA',\n",
       " 71: 'Waterloo Cedar Falls, IA',\n",
       " 72: 'Davenport Moline Rock Is Ia, IL',\n",
       " 73: 'Boise, ID',\n",
       " 74: 'Twin Falls, ID',\n",
       " 75: 'Champaign Urbana, IL',\n",
       " 76: 'Chicago, IL',\n",
       " 77: 'Danville, IL',\n",
       " 78: 'Decatur, IL',\n",
       " 79: 'Joliet Will County, IL',\n",
       " 80: 'Peoria, IL',\n",
       " 81: 'Rockford, IL',\n",
       " 82: 'Elkhart Goshen, IN',\n",
       " 83: 'Evansville, IN',\n",
       " 84: 'Fort Wayne Allen County, IN',\n",
       " 85: 'Indianapolis, IN',\n",
       " 86: 'Lafayette, IN',\n",
       " 87: 'Richmond, IN',\n",
       " 88: 'South Bend, IN',\n",
       " 89: 'Terre Haute, IN',\n",
       " 90: 'Dodge City, KS',\n",
       " 91: 'Hutchinson, KS',\n",
       " 92: 'Manhattan, KS',\n",
       " 93: 'Pittsburg, KS',\n",
       " 94: 'Salina, KS',\n",
       " 95: 'Topeka, KS',\n",
       " 96: 'Wichita, KS',\n",
       " 97: 'Lexington, KY',\n",
       " 98: 'Louisville, KY',\n",
       " 99: 'Alexandria, LA',\n",
       " 100: 'Baton Rouge, LA',\n",
       " 101: 'Hammond, LA',\n",
       " 102: 'Houma Terrebonne Parish, LA',\n",
       " 103: 'Lafayette, LA',\n",
       " 104: 'Lake Charles, LA',\n",
       " 105: 'Monroe, LA',\n",
       " 106: 'New Orleans, LA',\n",
       " 107: 'Shreveport Bossier City, LA',\n",
       " 108: 'Slidell St Tammany Parish, LA',\n",
       " 109: 'Thibodaux Lafourche Parish, LA',\n",
       " 110: 'Boston, MA',\n",
       " 111: 'Pittsfield, MA',\n",
       " 112: 'Baltimore, MD',\n",
       " 113: 'Bethesda Gaithersburg Frederick, MD',\n",
       " 114: 'Portland, ME',\n",
       " 115: 'Benton Harbor, MI',\n",
       " 116: 'Detroit, MI',\n",
       " 117: 'Grand Rapids, MI',\n",
       " 118: 'Kalamazoo, MI',\n",
       " 119: 'Mankato, MN',\n",
       " 120: 'Minneapolis, MN',\n",
       " 121: 'St Cloud, MN',\n",
       " 122: 'St Paul, MN',\n",
       " 123: 'Columbia, MO',\n",
       " 124: 'Jefferson City, MO',\n",
       " 125: 'Joplin, MO',\n",
       " 126: 'Springfield, MO',\n",
       " 127: 'St Louis Mo, IL',\n",
       " 128: 'Kansas City Mo, KS',\n",
       " 129: 'Gulfport Biloxi, MS',\n",
       " 130: 'Hattiesburg, MS',\n",
       " 131: 'Jackson, MS',\n",
       " 132: 'Tupelo, MS',\n",
       " 133: 'Bozeman, MT',\n",
       " 134: 'Asheville, NC',\n",
       " 135: 'Burlington, NC',\n",
       " 136: 'Charlotte, NC',\n",
       " 137: 'Dare County, NC',\n",
       " 138: 'Raleigh, NC',\n",
       " 139: 'Thomasville Lexington, NC',\n",
       " 140: 'Wilmington, NC',\n",
       " 141: 'Winston Salem, NC',\n",
       " 142: 'Bismarck Mandan, ND',\n",
       " 143: 'Minot, ND',\n",
       " 144: 'Fargo Moorhead Nd, MN',\n",
       " 145: 'Lincoln, NE',\n",
       " 146: 'Omaha, NE',\n",
       " 147: 'Manchester, NH',\n",
       " 148: 'Bergen Passaic, NJ',\n",
       " 149: 'Middlesex Monmouth, NJ',\n",
       " 150: 'Newark Elizabeth, NJ',\n",
       " 151: 'Las Cruces, NM',\n",
       " 152: 'Rio Rancho, NM',\n",
       " 153: 'Las Vegas, NV',\n",
       " 154: 'Reno Sparks, NV',\n",
       " 155: 'Albany, NY',\n",
       " 156: 'Buffalo, NY',\n",
       " 157: 'Ithaca, NY',\n",
       " 158: 'New York Brooklyn, NY',\n",
       " 159: 'New York Manhattan, NY',\n",
       " 160: 'New York Queens, NY',\n",
       " 161: 'Rochester, NY',\n",
       " 162: 'Utica Rome, NY',\n",
       " 163: 'Akron, OH',\n",
       " 164: 'Ashland, OH',\n",
       " 165: 'Cincinnati, OH',\n",
       " 166: 'Cleveland, OH',\n",
       " 167: 'Columbus, OH',\n",
       " 168: 'Dayton, OH',\n",
       " 169: 'Findlay, OH',\n",
       " 170: 'Lima, OH',\n",
       " 171: 'Ardmore, OK',\n",
       " 172: 'Edmond, OK',\n",
       " 173: 'Enid, OK',\n",
       " 174: 'Muskogee, OK',\n",
       " 175: 'Norman, OK',\n",
       " 176: 'Oklahoma City, OK',\n",
       " 177: 'Ponca City, OK',\n",
       " 178: 'Pryor Creek, OK',\n",
       " 179: 'Tulsa, OK',\n",
       " 180: 'Portland, OR',\n",
       " 181: 'Allentown, PA',\n",
       " 182: 'Erie, PA',\n",
       " 183: 'Philadelphia, PA',\n",
       " 184: 'Pittsburgh, PA',\n",
       " 185: 'Reading, PA',\n",
       " 186: 'Scranton, PA',\n",
       " 187: 'Wilkes Barre, PA',\n",
       " 188: 'York County, PA',\n",
       " 189: 'San Juan, PR',\n",
       " 190: 'Providence, RI',\n",
       " 191: 'Anderson, SC',\n",
       " 192: 'Charleston N Charleston, SC',\n",
       " 193: 'Columbia, SC',\n",
       " 194: 'Greenville, SC',\n",
       " 195: 'Hilton Head Island, SC',\n",
       " 196: 'Pierre, SD',\n",
       " 197: 'Chattanooga, TN',\n",
       " 198: 'Columbia Maury County, TN',\n",
       " 199: 'Jackson Madison County, TN',\n",
       " 200: 'Knoxville, TN',\n",
       " 201: 'Memphis, TN',\n",
       " 202: 'Morristown, TN',\n",
       " 203: 'Nashville Murfreesboro, TN',\n",
       " 204: 'Abilene, TX',\n",
       " 205: 'Amarillo, TX',\n",
       " 206: 'Austin, TX',\n",
       " 207: 'Beaumont, TX',\n",
       " 208: 'Brazoria County, TX',\n",
       " 209: 'Conroe, TX',\n",
       " 210: 'Corpus Christi, TX',\n",
       " 211: 'Fort Worth, TX',\n",
       " 212: 'Harlingen, TX',\n",
       " 213: 'Houston, TX',\n",
       " 214: 'Longview, TX',\n",
       " 215: 'Lubbock, TX',\n",
       " 216: 'Mc Allen, TX',\n",
       " 217: 'Midland, TX',\n",
       " 218: 'Nacogdoches, TX',\n",
       " 219: 'Odessa, TX',\n",
       " 220: 'Plano, TX',\n",
       " 221: 'Round Rock, TX',\n",
       " 222: 'San Antonio, TX',\n",
       " 223: 'San Marcos, TX',\n",
       " 224: 'Seguin, TX',\n",
       " 225: 'Sherman Denison, TX',\n",
       " 226: 'Temple, TX',\n",
       " 227: 'Tyler, TX',\n",
       " 228: 'Waco, TX',\n",
       " 229: 'Wichita Falls, TX',\n",
       " 230: 'Texarkana Tx, AR',\n",
       " 231: 'Cedar City, UT',\n",
       " 232: 'Ogden, UT',\n",
       " 233: 'Provo Orem, UT',\n",
       " 234: 'Salt Lake City, UT',\n",
       " 235: 'St George, UT',\n",
       " 236: 'Alexandria, VA',\n",
       " 237: 'Arlington, VA',\n",
       " 238: 'Danville City, VA',\n",
       " 239: 'Hampton Roads Se Virginia, VA',\n",
       " 240: 'Harrisonburg, VA',\n",
       " 241: 'Lexington Buena Vista Rockbridge, VA',\n",
       " 242: 'Lynchburg, VA',\n",
       " 243: 'Martinsville Henry County, VA',\n",
       " 244: 'Richmond, VA',\n",
       " 245: 'Roanoke, VA',\n",
       " 246: 'Staunton Augusta County, VA',\n",
       " 247: 'Winchester Va, WV',\n",
       " 248: 'Burlington Chittenden County, VT',\n",
       " 249: 'Bellingham, WA',\n",
       " 250: 'Kennewick Richland Pasco, WA',\n",
       " 251: 'Moses Lake, WA',\n",
       " 252: 'Mount Vernon Skagit County, WA',\n",
       " 253: 'Olympia, WA',\n",
       " 254: 'Seattle, WA',\n",
       " 255: 'Spokane, WA',\n",
       " 256: 'Tacoma, WA',\n",
       " 257: 'Wenatchee, WA',\n",
       " 258: 'Yakima, WA',\n",
       " 259: 'Eau Claire, WI',\n",
       " 260: 'Fond Du Lac, WI',\n",
       " 261: 'Green Bay, WI',\n",
       " 262: 'Madison, WI',\n",
       " 263: 'Marshfield, WI',\n",
       " 264: 'Milwaukee Waukesha, WI',\n",
       " 265: 'Morgantown, WV',\n",
       " 266: 'Laramie, WY',\n",
       " 267: 'Dallas, TX'}"
      ]
     },
     "execution_count": 8,
     "metadata": {},
     "output_type": "execute_result"
    }
   ],
   "source": [
    "test_city_dict"
   ]
  },
  {
   "cell_type": "code",
   "execution_count": 13,
   "metadata": {},
   "outputs": [
    {
     "name": "stdout",
     "output_type": "stream",
     "text": [
      "$55,946 after taxes in Dallas, TX\n",
      "$52,524 after taxes in Richmond, VA\n",
      "-------------------------------------------------------\n",
      "The cost of living is 13% lower in Richmond, VA\n",
      "-------------------------------------------------------\n",
      "Moving from Dallas, TX to Richmond, VA leads to 7.332% increase in standard of living\n"
     ]
    }
   ],
   "source": [
    "col_compare('year', 70000, 70000, test_city_dict[244])"
   ]
  },
  {
   "cell_type": "code",
   "execution_count": 109,
   "metadata": {},
   "outputs": [
    {
     "name": "stdout",
     "output_type": "stream",
     "text": [
      "$33.29 after taxes in Florence, AL\n",
      "$18.39 after taxes in Decatur Hartselle, AL\n",
      "-------------------------------------------------------\n",
      "The cost of living is 2% lower in Decatur-Hartselle, AL\n",
      "-------------------------------------------------------\n",
      "Moving from Florence, AL to Decatur Hartselle, AL leads to 77.402% reduction in standard of living\n"
     ]
    }
   ],
   "source": [
    "col_compare('hour', 23, 45, test_city_dict[6], test_city_dict[8])"
   ]
  },
  {
   "cell_type": "code",
   "execution_count": 14,
   "metadata": {},
   "outputs": [
    {
     "name": "stdout",
     "output_type": "stream",
     "text": [
      "$70,016 after taxes in Dallas, TX\n",
      "$65,022 after taxes in New York Manhattan, NY\n",
      "-------------------------------------------------------\n",
      "The cost of living is 128% higher in New York (Manhattan), NY\n",
      "-------------------------------------------------------\n",
      "Moving from Dallas, TX to New York Manhattan, NY leads to 145.511% reduction in standard of living\n"
     ]
    }
   ],
   "source": [
    "col_compare('year', 90000, 90000, test_city_dict[159])"
   ]
  },
  {
   "cell_type": "markdown",
   "metadata": {},
   "source": [
    "### Steps for extracting city values\n",
    "1. Change tabs to nerd wallet\n",
    "2. Click on bar with \"I want to live in:\"\n",
    "3. Press 'Enter' the first time then everytime after press 'Down' + 'Enter'\n",
    "4. Go to URL address bar and copy it\n",
    "5. Go to excel and paste it and press 'Enter'\n",
    "6. Then go back to nerd wallet page and repeat at step 2\n"
   ]
  },
  {
   "cell_type": "code",
   "execution_count": 132,
   "metadata": {},
   "outputs": [],
   "source": [
    "import pyautogui as pg"
   ]
  },
  {
   "cell_type": "code",
   "execution_count": 169,
   "metadata": {},
   "outputs": [],
   "source": [
    "tab = pg.position() #set up the postion for the tab"
   ]
  },
  {
   "cell_type": "code",
   "execution_count": 171,
   "metadata": {},
   "outputs": [],
   "source": [
    "bar = pg.position() #set up the search bar position"
   ]
  },
  {
   "cell_type": "code",
   "execution_count": 172,
   "metadata": {},
   "outputs": [],
   "source": [
    "url = pg.position() #set up the url address position"
   ]
  },
  {
   "cell_type": "code",
   "execution_count": 173,
   "metadata": {},
   "outputs": [],
   "source": [
    "excel = pg.position() #set up the excel position"
   ]
  },
  {
   "cell_type": "code",
   "execution_count": 185,
   "metadata": {},
   "outputs": [],
   "source": [
    "# First pass b/c we can't press down the first time\n",
    "pg.moveTo(tab)\n",
    "pg.click()\n",
    "pg.moveTo(bar)\n",
    "pg.click()\n",
    "pg.press('enter')\n",
    "pg.moveTo(url)\n",
    "pg.click()\n",
    "pg.hotkey('ctrl', 'a')\n",
    "pg.hotkey('ctrl', 'c')\n",
    "pg.moveTo(excel)\n",
    "pg.click()\n",
    "pg.hotkey('ctrl', 'v')\n",
    "pg.press('enter')"
   ]
  },
  {
   "cell_type": "code",
   "execution_count": 186,
   "metadata": {},
   "outputs": [],
   "source": [
    "def add_url_to_excel():\n",
    "    pg.moveTo(tab)\n",
    "    pg.click()\n",
    "    pg.moveTo(bar)\n",
    "    pg.click()\n",
    "    pg.press('down')\n",
    "    pg.press('enter')\n",
    "    pg.moveTo(url)\n",
    "    pg.click()\n",
    "    pg.hotkey('ctrl', 'a')\n",
    "    pg.hotkey('ctrl', 'c')\n",
    "    pg.moveTo(excel)\n",
    "    pg.click()\n",
    "    pg.hotkey('ctrl', 'v')\n",
    "    pg.press('enter')"
   ]
  },
  {
   "cell_type": "code",
   "execution_count": 187,
   "metadata": {},
   "outputs": [],
   "source": [
    "for i in range(266): #316 total minus 50 states\n",
    "    add_url_to_excel()"
   ]
  }
 ],
 "metadata": {
  "kernelspec": {
   "display_name": "Python 3",
   "language": "python",
   "name": "python3"
  },
  "language_info": {
   "codemirror_mode": {
    "name": "ipython",
    "version": 3
   },
   "file_extension": ".py",
   "mimetype": "text/x-python",
   "name": "python",
   "nbconvert_exporter": "python",
   "pygments_lexer": "ipython3",
   "version": "3.7.3"
  },
  "varInspector": {
   "cols": {
    "lenName": 16,
    "lenType": 16,
    "lenVar": 40
   },
   "kernels_config": {
    "python": {
     "delete_cmd_postfix": "",
     "delete_cmd_prefix": "del ",
     "library": "var_list.py",
     "varRefreshCmd": "print(var_dic_list())"
    },
    "r": {
     "delete_cmd_postfix": ") ",
     "delete_cmd_prefix": "rm(",
     "library": "var_list.r",
     "varRefreshCmd": "cat(var_dic_list()) "
    }
   },
   "types_to_exclude": [
    "module",
    "function",
    "builtin_function_or_method",
    "instance",
    "_Feature"
   ],
   "window_display": false
  }
 },
 "nbformat": 4,
 "nbformat_minor": 4
}
